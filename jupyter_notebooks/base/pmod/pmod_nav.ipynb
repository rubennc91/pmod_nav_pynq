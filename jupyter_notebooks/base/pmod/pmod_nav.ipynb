{
 "cells": [
  {
   "cell_type": "markdown",
   "metadata": {},
   "source": [
    "## Displaying text on a PmodNAV\n",
    "\n",
    "This demonstration shows how to display text on a PmodNAV using the board.\n",
    "\n",
    "The Digilent Pmod NAV is required. In this example it should be connected to PMODA."
   ]
  },
  {
   "cell_type": "code",
   "execution_count": 1,
   "metadata": {},
   "outputs": [
    {
     "data": {
      "application/javascript": [
       "\n",
       "try {\n",
       "require(['notebook/js/codecell'], function(codecell) {\n",
       "  codecell.CodeCell.options_default.highlight_modes[\n",
       "      'magic_text/x-csrc'] = {'reg':[/^%%microblaze/]};\n",
       "  Jupyter.notebook.events.one('kernel_ready.Kernel', function(){\n",
       "      Jupyter.notebook.get_cells().map(function(cell){\n",
       "          if (cell.cell_type == 'code'){ cell.auto_highlight(); } }) ;\n",
       "  });\n",
       "});\n",
       "} catch (e) {};\n"
      ]
     },
     "metadata": {},
     "output_type": "display_data"
    },
    {
     "data": {
      "application/javascript": [
       "\n",
       "try {\n",
       "require(['notebook/js/codecell'], function(codecell) {\n",
       "  codecell.CodeCell.options_default.highlight_modes[\n",
       "      'magic_text/x-csrc'] = {'reg':[/^%%pybind11/]};\n",
       "  Jupyter.notebook.events.one('kernel_ready.Kernel', function(){\n",
       "      Jupyter.notebook.get_cells().map(function(cell){\n",
       "          if (cell.cell_type == 'code'){ cell.auto_highlight(); } }) ;\n",
       "  });\n",
       "});\n",
       "} catch (e) {};\n"
      ]
     },
     "metadata": {},
     "output_type": "display_data"
    }
   ],
   "source": [
    "from pynq.overlays.base import BaseOverlay\n",
    "from pynq.lib import Pmod_NAV\n",
    "\n",
    "base = BaseOverlay(\"base.bit\")\n",
    "\n",
    "pmod_nav = Pmod_NAV(base.PMODA)"
   ]
  },
  {
   "cell_type": "code",
   "execution_count": 10,
   "metadata": {},
   "outputs": [
    {
     "name": "stdout",
     "output_type": "stream",
     "text": [
      "Help on Pmod_NAV in module pynq.lib.pmod.pmod_nav object:\n",
      "\n",
      "class Pmod_NAV(builtins.object)\n",
      " |  Pmod_NAV(mb_info, text=None)\n",
      " |  \n",
      " |  This class controls an NAV Pmod.\n",
      " |  \n",
      " |  The Pmod NAV uses the LSM9DS1 3-axis accelerometer, 3-axis gyroscope, 3-axis magnetometer, plus the LPS25HB digital barometer to provide users with 10-DOF functionality.\n",
      " |  \n",
      " |  Attributes\n",
      " |  ----------\n",
      " |  microblaze : Pmod\n",
      " |      Microblaze processor instance used by this module.\n",
      " |  \n",
      " |  Methods defined here:\n",
      " |  \n",
      " |  __init__(self, mb_info, text=None)\n",
      " |      Return a new instance of an OLED object. \n",
      " |      \n",
      " |      Parameters\n",
      " |      ----------\n",
      " |      mb_info : dict\n",
      " |          A dictionary storing Microblaze information, such as the\n",
      " |          IP name and the reset name.\n",
      " |      text: str\n",
      " |          The text to be displayed after initialization.\n",
      " |  \n",
      " |  get_ag_id(self)\n",
      " |      The function gets the device id for all the instruments.\n",
      " |      \n",
      " |      Returns\n",
      " |      -------\n",
      " |      list\n",
      " |          A list of the device ID Accel-Gyro, Mag and alt.\n",
      " |  \n",
      " |  get_alt_id(self)\n",
      " |      The function gets the device id for all the instruments.\n",
      " |      \n",
      " |      Returns\n",
      " |      -------\n",
      " |      list\n",
      " |         A list of the device ID Accel-Gyro, Mag and alt.\n",
      " |  \n",
      " |  get_mag_id(self)\n",
      " |      The function gets the device id for all the instruments.\n",
      " |      \n",
      " |      Returns\n",
      " |      -------\n",
      " |      list\n",
      " |          A list of the device ID Accel-Gyro, Mag and alt.\n",
      " |  \n",
      " |  read_accel(self)\n",
      " |      The function gets the device id for all the instruments.\n",
      " |      \n",
      " |      Returns\n",
      " |      -------\n",
      " |      list\n",
      " |          A list of the device ID Accel-Gyro, Mag and alt.\n",
      " |  \n",
      " |  read_alt(self)\n",
      " |      The function gets the device id for all the instruments.\n",
      " |      \n",
      " |      Returns\n",
      " |      -------\n",
      " |      list\n",
      " |          A list of the device ID Accel-Gyro, Mag and alt.\n",
      " |  \n",
      " |  read_gyro(self)\n",
      " |      The function gets the device id for all the instruments.\n",
      " |      \n",
      " |      Returns\n",
      " |      -------\n",
      " |      list\n",
      " |          A list of the device ID Accel-Gyro, Mag and alt.\n",
      " |  \n",
      " |  read_mag(self)\n",
      " |      The function gets the device id for all the instruments.\n",
      " |      \n",
      " |      Returns\n",
      " |      -------\n",
      " |      list\n",
      " |          A list of the device ID Accel-Gyro, Mag and alt.\n",
      " |  \n",
      " |  read_temp(self)\n",
      " |      The function gets the device id for all the instruments.\n",
      " |      \n",
      " |      Returns\n",
      " |      -------\n",
      " |      list\n",
      " |          A list of the device ID Accel-Gyro, Mag and alt.\n",
      " |  \n",
      " |  ----------------------------------------------------------------------\n",
      " |  Data descriptors defined here:\n",
      " |  \n",
      " |  __dict__\n",
      " |      dictionary for instance variables (if defined)\n",
      " |  \n",
      " |  __weakref__\n",
      " |      list of weak references to the object (if defined)\n",
      "\n"
     ]
    }
   ],
   "source": [
    "help(pmod_nav)"
   ]
  },
  {
   "cell_type": "markdown",
   "metadata": {},
   "source": [
    "#### You should now see the text output on the OLED, so let's try another message."
   ]
  },
  {
   "cell_type": "code",
   "execution_count": 2,
   "metadata": {
    "scrolled": true
   },
   "outputs": [
    {
     "name": "stdout",
     "output_type": "stream",
     "text": [
      "0b1111111101101000\n"
     ]
    }
   ],
   "source": [
    "deviceID = pmod_nav.get_ag_id()\n",
    "print(bin(deviceID))"
   ]
  },
  {
   "cell_type": "markdown",
   "metadata": {},
   "source": [
    "#### That's it!  Please try to write your own messages to the PmodOLED."
   ]
  },
  {
   "cell_type": "code",
   "execution_count": 5,
   "metadata": {},
   "outputs": [
    {
     "name": "stdout",
     "output_type": "stream",
     "text": [
      "[0, 0, 0]\n"
     ]
    }
   ],
   "source": [
    "accel = pmod_nav.read_accel()\n",
    "print(accel)"
   ]
  },
  {
   "cell_type": "code",
   "execution_count": 3,
   "metadata": {},
   "outputs": [
    {
     "name": "stdout",
     "output_type": "stream",
     "text": [
      "0b1111111100111101\n"
     ]
    }
   ],
   "source": [
    "deviceID = pmod_nav.get_mag_id()\n",
    "print(bin(deviceID))"
   ]
  },
  {
   "cell_type": "code",
   "execution_count": 5,
   "metadata": {},
   "outputs": [
    {
     "name": "stdout",
     "output_type": "stream",
     "text": [
      "0b1111111110111101\n"
     ]
    }
   ],
   "source": [
    "deviceID = pmod_nav.get_alt_id()\n",
    "print(bin(deviceID))"
   ]
  },
  {
   "cell_type": "code",
   "execution_count": 7,
   "metadata": {},
   "outputs": [
    {
     "name": "stdout",
     "output_type": "stream",
     "text": [
      "0b10000001011\n",
      "1035\n"
     ]
    }
   ],
   "source": [
    "temp = pmod_nav.read_alt()\n",
    "print(bin(temp))\n",
    "print(temp)"
   ]
  },
  {
   "cell_type": "code",
   "execution_count": 8,
   "metadata": {},
   "outputs": [
    {
     "name": "stdout",
     "output_type": "stream",
     "text": [
      "[228, 4294967185, 4294967176]\n"
     ]
    }
   ],
   "source": [
    "accel = pmod_nav.read_gyro()\n",
    "print(accel)"
   ]
  },
  {
   "cell_type": "code",
   "execution_count": 9,
   "metadata": {},
   "outputs": [
    {
     "name": "stdout",
     "output_type": "stream",
     "text": [
      "[4294967293, 1, 3]\n"
     ]
    }
   ],
   "source": [
    "accel = pmod_nav.read_mag()\n",
    "print(accel)"
   ]
  },
  {
   "cell_type": "code",
   "execution_count": null,
   "metadata": {},
   "outputs": [],
   "source": []
  }
 ],
 "metadata": {
  "kernelspec": {
   "display_name": "Python 3",
   "language": "python",
   "name": "python3"
  },
  "language_info": {
   "codemirror_mode": {
    "name": "ipython",
    "version": 3
   },
   "file_extension": ".py",
   "mimetype": "text/x-python",
   "name": "python",
   "nbconvert_exporter": "python",
   "pygments_lexer": "ipython3",
   "version": "3.8.2"
  }
 },
 "nbformat": 4,
 "nbformat_minor": 1
}
